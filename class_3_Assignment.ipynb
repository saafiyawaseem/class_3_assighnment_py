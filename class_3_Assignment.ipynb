{
  "nbformat": 4,
  "nbformat_minor": 0,
  "metadata": {
    "colab": {
      "provenance": [],
      "authorship_tag": "ABX9TyNDySW3LaoWnMs8EWZAIoCV",
      "include_colab_link": true
    },
    "kernelspec": {
      "name": "python3",
      "display_name": "Python 3"
    },
    "language_info": {
      "name": "python"
    }
  },
  "cells": [
    {
      "cell_type": "markdown",
      "metadata": {
        "id": "view-in-github",
        "colab_type": "text"
      },
      "source": [
        "<a href=\"https://colab.research.google.com/github/saafiyawaseem/class_3_assighnment_py/blob/main/class_3_Assignment.ipynb\" target=\"_parent\"><img src=\"https://colab.research.google.com/assets/colab-badge.svg\" alt=\"Open In Colab\"/></a>"
      ]
    },
    {
      "cell_type": "markdown",
      "source": [
        "A-1 Bsic List Operator[append]"
      ],
      "metadata": {
        "id": "1RXIrpMLJ-yB"
      }
    },
    {
      "cell_type": "code",
      "execution_count": null,
      "metadata": {
        "colab": {
          "base_uri": "https://localhost:8080/"
        },
        "id": "2uuz6GZzBCIa",
        "outputId": "3b5f89d3-b10f-4797-df5a-481778335398"
      },
      "outputs": [
        {
          "output_type": "stream",
          "name": "stdout",
          "text": [
            "[2, 4, 6, 8, 10, 12]\n"
          ]
        }
      ],
      "source": [
        "tabel:list [int]=[2,4,6,8,10]\n",
        "tabel.append(12)\n",
        "print(tabel)"
      ]
    },
    {
      "cell_type": "markdown",
      "source": [
        "A-2 [Extend]"
      ],
      "metadata": {
        "id": "_gkd6cI2NOW7"
      }
    },
    {
      "cell_type": "code",
      "source": [
        "counter:list[int]=[1,2,3]\n",
        "counter.extend([4,5,6])\n",
        "print(counter)"
      ],
      "metadata": {
        "id": "652i5JpHNj36",
        "colab": {
          "base_uri": "https://localhost:8080/"
        },
        "outputId": "be7fae63-7adf-436b-9a6f-fa831cd37f8e"
      },
      "execution_count": null,
      "outputs": [
        {
          "output_type": "stream",
          "name": "stdout",
          "text": [
            "[1, 2, 3, 4, 5, 6]\n"
          ]
        }
      ]
    },
    {
      "cell_type": "markdown",
      "source": [
        "A-3[Insert]"
      ],
      "metadata": {
        "id": "Og8pG-t-HlGh"
      }
    },
    {
      "cell_type": "code",
      "source": [
        "lang:list[str]=[\"Java\",\"C++\",\"Javascript\"\"Ruby\"]\n",
        "lang.insert(2,\"Python\")\n",
        "print(lang)"
      ],
      "metadata": {
        "colab": {
          "base_uri": "https://localhost:8080/"
        },
        "id": "4E8M9gDDH86m",
        "outputId": "be0df07f-31c0-4834-e326-4c186fbc384b"
      },
      "execution_count": null,
      "outputs": [
        {
          "output_type": "stream",
          "name": "stdout",
          "text": [
            "['Java', 'C++', 'Python', 'JavascriptRuby']\n"
          ]
        }
      ]
    },
    {
      "cell_type": "markdown",
      "source": [
        "A-4 [Remove]"
      ],
      "metadata": {
        "id": "6ABC8PFKI7jY"
      }
    },
    {
      "cell_type": "code",
      "source": [
        "group:list[int] = [10, 20, 30, 10, 40]\n",
        "group.remove(10)  # Removes first occurrence of 10\n",
        "print(group)"
      ],
      "metadata": {
        "colab": {
          "base_uri": "https://localhost:8080/"
        },
        "id": "cFhHd80ZJHEE",
        "outputId": "1ab30846-1d67-473d-8bb7-8922bede7e72"
      },
      "execution_count": null,
      "outputs": [
        {
          "output_type": "stream",
          "name": "stdout",
          "text": [
            "[20, 30, 10, 40]\n"
          ]
        }
      ]
    },
    {
      "cell_type": "markdown",
      "source": [
        "A-5 [POP] Method"
      ],
      "metadata": {
        "id": "TemSqaZVRB1U"
      }
    },
    {
      "cell_type": "code",
      "source": [
        "counter2:list[int] =[100,200,300,400]\n",
        "counter2.pop()\n",
        "print(counter2)"
      ],
      "metadata": {
        "colab": {
          "base_uri": "https://localhost:8080/"
        },
        "id": "-1l8fWetRjX_",
        "outputId": "6d3b72b7-8377-4733-9f7f-8dcae523897c"
      },
      "execution_count": null,
      "outputs": [
        {
          "output_type": "stream",
          "name": "stdout",
          "text": [
            "[100, 200, 300]\n"
          ]
        }
      ]
    },
    {
      "cell_type": "markdown",
      "source": [
        "Intermediate List Operations[count]"
      ],
      "metadata": {
        "id": "vzO3jr2vTaXW"
      }
    },
    {
      "cell_type": "code",
      "source": [
        "score:list[int]=[5,10,5,20,5,30]\n",
        "print(score.count(5))\n"
      ],
      "metadata": {
        "colab": {
          "base_uri": "https://localhost:8080/"
        },
        "id": "zy45JSdiTw1e",
        "outputId": "57fdd688-a7f3-46f8-c0ea-8a539ee81c9a"
      },
      "execution_count": null,
      "outputs": [
        {
          "output_type": "stream",
          "name": "stdout",
          "text": [
            "3\n"
          ]
        }
      ]
    },
    {
      "cell_type": "markdown",
      "source": [
        "A-7 [sort] it arrange the elements"
      ],
      "metadata": {
        "id": "_K6yDUAy68l9"
      }
    },
    {
      "cell_type": "code",
      "source": [
        "todoList:list[int]=[9,1,8,3,5]\n",
        "todoList.sort()\n",
        "print(todoList)"
      ],
      "metadata": {
        "colab": {
          "base_uri": "https://localhost:8080/"
        },
        "id": "vcCWcHYjAmgo",
        "outputId": "23c30140-79f9-4e58-ad8c-1b0c3acd256b"
      },
      "execution_count": null,
      "outputs": [
        {
          "output_type": "stream",
          "name": "stdout",
          "text": [
            "[1, 3, 5, 8, 9]\n"
          ]
        }
      ]
    },
    {
      "cell_type": "markdown",
      "source": [
        "A-8 [Reverse]Method it reverse elements"
      ],
      "metadata": {
        "id": "AbV8bGuaCvGs"
      }
    },
    {
      "cell_type": "code",
      "source": [
        "fruites:list[str]=[\"apple\",\"banana\",\"cherry\"]\n",
        "fruites.reverse()\n",
        "print(fruites)"
      ],
      "metadata": {
        "colab": {
          "base_uri": "https://localhost:8080/"
        },
        "id": "v3zsBGgZDXHm",
        "outputId": "a3faf5c7-97f3-49a3-ceae-5cc0a5cd5538"
      },
      "execution_count": null,
      "outputs": [
        {
          "output_type": "stream",
          "name": "stdout",
          "text": [
            "['cherry', 'banana', 'apple']\n"
          ]
        }
      ]
    },
    {
      "cell_type": "markdown",
      "source": [
        "A-9"
      ],
      "metadata": {
        "id": "hu85PtnRDudI"
      }
    },
    {
      "cell_type": "code",
      "source": [
        "eng_marks:list[int]=[1,2,3,4,5]\n",
        "bio_marks=eng_marks.copy()\n",
        "bio_marks.append(6)\n",
        "print(bio_marks)\n",
        "bio_marks[0]=10\n",
        "print(bio_marks)"
      ],
      "metadata": {
        "colab": {
          "base_uri": "https://localhost:8080/"
        },
        "id": "bvMeltgtFy_f",
        "outputId": "387995f5-f8d0-404b-deaa-00b70fc9aed8"
      },
      "execution_count": null,
      "outputs": [
        {
          "output_type": "stream",
          "name": "stdout",
          "text": [
            "[1, 2, 3, 4, 5, 6]\n",
            "[10, 2, 3, 4, 5, 6]\n"
          ]
        }
      ]
    },
    {
      "cell_type": "markdown",
      "source": [
        "A-10 [clear] method"
      ],
      "metadata": {
        "id": "2lyzIYAlHu3j"
      }
    },
    {
      "cell_type": "code",
      "source": [
        "greet:list[str]=[\"hello\",\"world\",\"python\"]\n",
        "greet.clear()\n",
        "print(greet)"
      ],
      "metadata": {
        "colab": {
          "base_uri": "https://localhost:8080/"
        },
        "id": "dBGtDWbtICi1",
        "outputId": "6fbcb202-41e7-4f41-eb49-3e1625c0a3c9"
      },
      "execution_count": null,
      "outputs": [
        {
          "output_type": "stream",
          "name": "stdout",
          "text": [
            "[]\n"
          ]
        }
      ]
    },
    {
      "cell_type": "markdown",
      "source": [
        "Tupple base questions"
      ],
      "metadata": {
        "id": "zSl-3bexMhZW"
      }
    },
    {
      "cell_type": "markdown",
      "source": [
        "A-11"
      ],
      "metadata": {
        "id": "4_gKBvyNMrh6"
      }
    },
    {
      "cell_type": "code",
      "source": [
        "iftari:list[str]=[\"apple\",\"banana\",\"guava\",\"melon\",\"grapes\"]\n",
        "print(iftari[-3])\n"
      ],
      "metadata": {
        "colab": {
          "base_uri": "https://localhost:8080/"
        },
        "id": "qt7u9iXJM2VQ",
        "outputId": "8871283e-9202-44b7-ce6b-a51b9255ad79"
      },
      "execution_count": null,
      "outputs": [
        {
          "output_type": "stream",
          "name": "stdout",
          "text": [
            "guava\n"
          ]
        }
      ]
    },
    {
      "cell_type": "markdown",
      "source": [
        "A-12 [conversion] tuple convert into list"
      ],
      "metadata": {
        "id": "kDxjf43dPQ4A"
      }
    },
    {
      "cell_type": "code",
      "source": [
        "tuple1:tuple[int]=(10,20,30,40,50)\n",
        "my_list=list(tuple1)\n",
        "print(my_list[2])\n",
        "new_tuple=tuple(my_list)\n",
        "print(tuple1)\n"
      ],
      "metadata": {
        "colab": {
          "base_uri": "https://localhost:8080/"
        },
        "id": "x0pBfAwOPcB9",
        "outputId": "174180d7-dbf7-480d-8232-07ddbd1ba0fa"
      },
      "execution_count": null,
      "outputs": [
        {
          "output_type": "stream",
          "name": "stdout",
          "text": [
            "30\n",
            "(10, 20, 30, 40, 50)\n"
          ]
        }
      ]
    },
    {
      "cell_type": "markdown",
      "source": [
        "A-13 [use append method in Tuple]"
      ],
      "metadata": {
        "id": "uRmW7vJi-1lG"
      }
    },
    {
      "cell_type": "code",
      "source": [
        "alpha =(\"A\",\"B\",\"C\")\n",
        "my_list = list(alpha)\n",
        "my_list.append(\"D\")\n",
        "print(my_list)"
      ],
      "metadata": {
        "colab": {
          "base_uri": "https://localhost:8080/"
        },
        "id": "1RnrCktC_EqC",
        "outputId": "2132c1fa-c1a1-4831-d79e-8f76f74d8950"
      },
      "execution_count": null,
      "outputs": [
        {
          "output_type": "stream",
          "name": "stdout",
          "text": [
            "['A', 'B', 'C', 'D']\n"
          ]
        }
      ]
    },
    {
      "cell_type": "markdown",
      "source": [
        "A-14 Unpacking of the tuple"
      ],
      "metadata": {
        "id": "2yaVqgtK6jc1"
      }
    },
    {
      "cell_type": "code",
      "source": [
        "my_tuple =(100,200,300)\n",
        "a,b ,c =my_tuple\n",
        "print(a)\n",
        "print(b)\n",
        "print(c)"
      ],
      "metadata": {
        "colab": {
          "base_uri": "https://localhost:8080/"
        },
        "id": "3z0dj6kS8C91",
        "outputId": "5489823e-0ac4-41af-fe07-76485dc44036"
      },
      "execution_count": null,
      "outputs": [
        {
          "output_type": "stream",
          "name": "stdout",
          "text": [
            "100\n",
            "200\n",
            "300\n"
          ]
        }
      ]
    },
    {
      "cell_type": "markdown",
      "source": [
        "A-15 using of count method"
      ],
      "metadata": {
        "id": "gJZAbf188oS_"
      }
    },
    {
      "cell_type": "code",
      "source": [
        "counting=(7,1,7,3,7,5)\n",
        "print(counting.count(7))\n"
      ],
      "metadata": {
        "colab": {
          "base_uri": "https://localhost:8080/"
        },
        "id": "61CW3rpY9BcV",
        "outputId": "57369eb4-6970-428f-f935-a50a02acdf5b"
      },
      "execution_count": null,
      "outputs": [
        {
          "output_type": "stream",
          "name": "stdout",
          "text": [
            "3\n"
          ]
        }
      ]
    },
    {
      "cell_type": "markdown",
      "source": [
        "Advanced Problems (A-16)\n",
        "16. Write a function that takes a list and returns a new list with all even numbers removed."
      ],
      "metadata": {
        "id": "OmBP7jaO9w0n"
      }
    },
    {
      "cell_type": "code",
      "source": [
        "def  remove_list1(numbers):\n",
        "  return[num for num in numbers if num % 2 != 0]\n",
        "\n",
        "original_list =[1,2,3,4,5,6,7,8,9,10]\n",
        "new_list = remove_list1(original_list)\n",
        "print(\"Original List :\",original_list)\n",
        "print(\"New List:\",new_list)\n"
      ],
      "metadata": {
        "id": "eop3aYGCStdU",
        "colab": {
          "base_uri": "https://localhost:8080/"
        },
        "outputId": "eaa6ba81-0054-4b13-b3ca-0b04b16d1d82"
      },
      "execution_count": null,
      "outputs": [
        {
          "output_type": "stream",
          "name": "stdout",
          "text": [
            "Original List : [1, 2, 3, 4, 5, 6, 7, 8, 9, 10]\n",
            "New List: [1, 3, 5, 7, 9]\n"
          ]
        }
      ]
    },
    {
      "cell_type": "markdown",
      "source": [
        "17. Create a function that accepts a list and returns a new list with elements sorted in\n",
        "descending order without using the sort() method."
      ],
      "metadata": {
        "id": "jmsth8d6Swvm"
      }
    },
    {
      "cell_type": "code",
      "source": [
        "def sort_descending(numbers):\n",
        "  sorted_numbers = []\n",
        "  while numbers:\n",
        "    max_num = numbers[0]\n",
        "    for num in numbers:\n",
        "\n",
        "     if num > max_num:\n",
        "      max_num = num\n",
        "      sorted_numbers.append(max_num)\n",
        "     numbers.remove(max_num)\n",
        "\n",
        "  return sorted_numbers\n",
        "\n",
        "original_numbers =[9,2,5,1,4,8]\n",
        "result = sort_descending(original_list.copy())\n",
        "print(\"sorted in descending order:\",result)"
      ],
      "metadata": {
        "id": "tsKHpZFWTBVw",
        "colab": {
          "base_uri": "https://localhost:8080/"
        },
        "outputId": "a8bdcb5e-22ad-4a1a-e61d-7c621c97aa63"
      },
      "execution_count": null,
      "outputs": [
        {
          "output_type": "stream",
          "name": "stdout",
          "text": [
            "sorted in descending order: [3, 5, 7, 9, 6, 10]\n"
          ]
        }
      ]
    },
    {
      "cell_type": "markdown",
      "source": [
        "18. Given a list of numbers, write a program to remove all duplicate elements and print the\n",
        "unique elements."
      ],
      "metadata": {
        "id": "lDJDGpmSTDCq"
      }
    },
    {
      "cell_type": "code",
      "source": [
        "numbers=[5,10,5,20,5,30]\n",
        "unique_numbers =list(set(numbers))\n",
        "\n",
        "print(\"Unique Numbers :\",unique_numbers)"
      ],
      "metadata": {
        "id": "3FOpw-Z4TM5c",
        "colab": {
          "base_uri": "https://localhost:8080/"
        },
        "outputId": "2e54050e-b626-4892-8d6e-b4859048909c"
      },
      "execution_count": null,
      "outputs": [
        {
          "output_type": "stream",
          "name": "stdout",
          "text": [
            "Unique Numbers : [10, 20, 5, 30]\n"
          ]
        }
      ]
    },
    {
      "cell_type": "markdown",
      "source": [
        "19. Given a tuple of names (“Alice”, “Bob”, “Charlie”, “Alice”, “David”), convert\n",
        "it into a list, remove duplicates, and convert it back to a tuple."
      ],
      "metadata": {
        "id": "aXZGqKB4TWg6"
      }
    },
    {
      "cell_type": "code",
      "source": [
        "tuple=(\"Alice\", \"Bob\",\"Charlie\",  \"Alice\" ,\"David\" )\n",
        "my_list =list(tuple)\n",
        "\n",
        "unique_list =list(set(my_list))\n",
        "\n",
        "\n",
        "my_list = set(tuple)\n",
        "print(my_list)\n"
      ],
      "metadata": {
        "colab": {
          "base_uri": "https://localhost:8080/"
        },
        "id": "9sCqQGgwTaUy",
        "outputId": "e55040e9-d64e-4035-e545-4d95cc3d0b63"
      },
      "execution_count": null,
      "outputs": [
        {
          "output_type": "stream",
          "name": "stdout",
          "text": [
            "{'David', 'Charlie', 'Bob', 'Alice'}\n"
          ]
        }
      ]
    },
    {
      "cell_type": "markdown",
      "source": [
        "20. Create a program that takes a list of mixed data types (int, str, float) and separates\n",
        "integers into one list, strings into another, and floats into another. *italicized text*"
      ],
      "metadata": {
        "id": "v-PYJz8CThVO"
      }
    },
    {
      "cell_type": "code",
      "source": [
        "my_tuple = (\"Alice\", \"Bob\", \"Charlie\", \"Alice\", \"David\")\n",
        "\n",
        "# Step 1: Convert tuple to list\n",
        "first_list = list(my_tuple)\n",
        "\n",
        "# Step 2: Remove duplicates using set (Note: This does not preserve order)\n",
        "unique_list = list(set(first_list))\n",
        "\n",
        "# Step 3: Convert list back to tuple:\n",
        "final_tuple = tuple(unique_list)\n",
        "\n",
        "print(final_tuple)\n"
      ],
      "metadata": {
        "id": "yJ6BIqc6-H0E",
        "colab": {
          "base_uri": "https://localhost:8080/"
        },
        "outputId": "aa983b8f-319c-491d-e755-8f18f28c4969"
      },
      "execution_count": null,
      "outputs": [
        {
          "output_type": "stream",
          "name": "stdout",
          "text": [
            "('Charlie', 'Alice', 'David', 'Bob')\n"
          ]
        }
      ]
    },
    {
      "cell_type": "code",
      "source": [
        "!pip install streamlit\n"
      ],
      "metadata": {
        "id": "Zzb8-KBlkTQO"
      },
      "execution_count": null,
      "outputs": []
    },
    {
      "cell_type": "code",
      "source": [
        "# For example, if you're saving a Python file\n",
        "with open('app.py', 'w') as f:\n",
        "    f.write('''class_3_assignment_py')\n",
        "import streamlit as st\n",
        "\n",
        "st.title(\"Assignment 3 - Weather App\")\n",
        "st.write(\"This is a basic weather app using Streamlit.\")\n",
        "''')"
      ],
      "metadata": {
        "id": "h7ktj0GMnD5K"
      },
      "execution_count": null,
      "outputs": []
    },
    {
      "cell_type": "code",
      "source": [
        "!git config --global user.email \"mwaseemraza26@gmail.com\"\n",
        "!git config --global user.name \"Saafiya Waseem\"\n"
      ],
      "metadata": {
        "id": "J9o25q6RnBAe"
      },
      "execution_count": null,
      "outputs": []
    },
    {
      "cell_type": "code",
      "source": [
        "\n",
        "!git clone  https://github.com/saafiyawaseem/class_3_assighnment_py.git"
      ],
      "metadata": {
        "colab": {
          "base_uri": "https://localhost:8080/"
        },
        "id": "dX505xS9tbCf",
        "outputId": "3c67fbd7-f719-4c5a-f45e-2e318c25202c"
      },
      "execution_count": null,
      "outputs": [
        {
          "output_type": "stream",
          "name": "stdout",
          "text": [
            "Cloning into 'class_3_assighnment_py'...\n",
            "remote: Enumerating objects: 3, done.\u001b[K\n",
            "remote: Counting objects: 100% (3/3), done.\u001b[K\n",
            "remote: Total 3 (delta 0), reused 0 (delta 0), pack-reused 0 (from 0)\u001b[K\n",
            "Receiving objects: 100% (3/3), done.\n"
          ]
        }
      ]
    },
    {
      "cell_type": "code",
      "source": [
        "!ls class_3_assighnment_py\n",
        "\n"
      ],
      "metadata": {
        "colab": {
          "base_uri": "https://localhost:8080/"
        },
        "id": "RC-QDj44AW4x",
        "outputId": "405f8bfb-8812-46e5-89f3-2c1af87da8ed"
      },
      "execution_count": null,
      "outputs": [
        {
          "output_type": "stream",
          "name": "stdout",
          "text": [
            "README.md\n"
          ]
        }
      ]
    },
    {
      "cell_type": "code",
      "source": [
        "with open('app.py', 'w') as f:\n",
        "    f.write(\"\"\"\n",
        "import streamlit as st\n",
        "\n",
        "st.title(\"Assignment 3 - Weather App\")\n",
        "st.write(\"This is a basic weather app using Streamlit.\")\n",
        "\"\"\")\n"
      ],
      "metadata": {
        "id": "WDWbnodoPVM1"
      },
      "execution_count": null,
      "outputs": []
    },
    {
      "cell_type": "code",
      "source": [
        "!ls class_3_assighnment_py\n"
      ],
      "metadata": {
        "colab": {
          "base_uri": "https://localhost:8080/"
        },
        "id": "BGuqjAxRQDw3",
        "outputId": "a9636b5c-71a7-4f91-dc3c-0d03fd6c2c71"
      },
      "execution_count": null,
      "outputs": [
        {
          "output_type": "stream",
          "name": "stdout",
          "text": [
            "README.md\n"
          ]
        }
      ]
    },
    {
      "cell_type": "code",
      "source": [
        "with open('app.py', 'w') as f:\n",
        "    f.write(\"\"\"\n",
        "# Yahan tumhara original code paste karo\n",
        "\"\"\")\n"
      ],
      "metadata": {
        "id": "At3DdX5sRHFk"
      },
      "execution_count": null,
      "outputs": []
    },
    {
      "cell_type": "code",
      "source": [
        "!cat app.py\n"
      ],
      "metadata": {
        "colab": {
          "base_uri": "https://localhost:8080/"
        },
        "id": "7VZNonebSC3c",
        "outputId": "555d92bb-2993-4f16-df85-3fd4d45a89c7"
      },
      "execution_count": null,
      "outputs": [
        {
          "output_type": "stream",
          "name": "stdout",
          "text": [
            "\n",
            "# Yahan tumhara original code paste karo\n"
          ]
        }
      ]
    },
    {
      "cell_type": "code",
      "source": [
        "with open('app.py', 'w') as f:\n",
        "    f.write(\"\"\"\n",
        "import streamlit as st\n",
        "\n",
        "st.title(\"Assignment 3 - Weather App\")\n",
        "st.write(\"This is a basic weather app using Streamlit.\")\n",
        "\"\"\")\n"
      ],
      "metadata": {
        "id": "0g7_zEW7T8xv"
      },
      "execution_count": null,
      "outputs": []
    },
    {
      "cell_type": "markdown",
      "source": [],
      "metadata": {
        "id": "x9nEwsP4PKZ1"
      }
    },
    {
      "cell_type": "code",
      "source": [
        "!cat app.py\n"
      ],
      "metadata": {
        "colab": {
          "base_uri": "https://localhost:8080/"
        },
        "id": "FFcokUeZUlE2",
        "outputId": "b7653507-1311-47fc-c17a-4ab56228fe88"
      },
      "execution_count": null,
      "outputs": [
        {
          "output_type": "stream",
          "name": "stdout",
          "text": [
            "\n",
            "import streamlit as st\n",
            "\n",
            "st.title(\"Assignment 3 - Weather App\")\n",
            "st.write(\"This is a basic weather app using Streamlit.\")\n"
          ]
        }
      ]
    },
    {
      "cell_type": "code",
      "source": [
        "%cd class_3_assighnment_py"
      ],
      "metadata": {
        "colab": {
          "base_uri": "https://localhost:8080/"
        },
        "id": "HuUvZSpKVS7s",
        "outputId": "6dccf569-54fc-4f8e-d3e3-b8f1ec983bd8"
      },
      "execution_count": null,
      "outputs": [
        {
          "output_type": "stream",
          "name": "stdout",
          "text": [
            "/content/class_3_assighnment_py\n"
          ]
        }
      ]
    },
    {
      "cell_type": "code",
      "source": [
        "!mv /content/app.py .\n"
      ],
      "metadata": {
        "id": "hd6c4qeLV_0h"
      },
      "execution_count": null,
      "outputs": []
    },
    {
      "cell_type": "code",
      "source": [
        "!ls\n"
      ],
      "metadata": {
        "colab": {
          "base_uri": "https://localhost:8080/"
        },
        "id": "upM5w0DlWULG",
        "outputId": "2ac40a5a-c3dc-441f-ec83-f7fee412b249"
      },
      "execution_count": null,
      "outputs": [
        {
          "output_type": "stream",
          "name": "stdout",
          "text": [
            "app.py\tREADME.md\n"
          ]
        }
      ]
    },
    {
      "cell_type": "code",
      "source": [
        "!git add app.py\n"
      ],
      "metadata": {
        "id": "VV8wMAQOWzNc"
      },
      "execution_count": null,
      "outputs": []
    },
    {
      "cell_type": "code",
      "source": [
        "!git commit -m \"Added Streamlit weather app (Assignment 3)\"\n"
      ],
      "metadata": {
        "colab": {
          "base_uri": "https://localhost:8080/"
        },
        "id": "nT2a6BeeXfaf",
        "outputId": "fc91ba08-b020-4a27-c9c0-f5acf22eb8e4"
      },
      "execution_count": null,
      "outputs": [
        {
          "output_type": "stream",
          "name": "stdout",
          "text": [
            "[main 048f141] Added Streamlit weather app (Assignment 3)\n",
            " 1 file changed, 5 insertions(+)\n",
            " create mode 100644 app.py\n"
          ]
        }
      ]
    },
    {
      "cell_type": "code",
      "source": [
        "%cd /content/class_3_assighnment_py\n",
        "\n"
      ],
      "metadata": {
        "colab": {
          "base_uri": "https://localhost:8080/"
        },
        "id": "3KTZDfgJYpd6",
        "outputId": "e2939219-d835-4741-ef09-99f526369ce3"
      },
      "execution_count": null,
      "outputs": [
        {
          "output_type": "stream",
          "name": "stdout",
          "text": [
            "/content/class_3_assighnment_py\n"
          ]
        }
      ]
    },
    {
      "cell_type": "code",
      "source": [
        "!git add .\n"
      ],
      "metadata": {
        "id": "cUYqEPajoYKQ"
      },
      "execution_count": null,
      "outputs": []
    },
    {
      "cell_type": "markdown",
      "source": [],
      "metadata": {
        "id": "VAuRYEOUUeyf"
      }
    },
    {
      "cell_type": "code",
      "source": [
        "!git commit -m \"Final commit with app.py\"\n"
      ],
      "metadata": {
        "colab": {
          "base_uri": "https://localhost:8080/"
        },
        "id": "eWm2faPNof7B",
        "outputId": "540fa0dc-9cc0-4e4d-cdb7-07adf9bd6ae8"
      },
      "execution_count": null,
      "outputs": [
        {
          "output_type": "stream",
          "name": "stdout",
          "text": [
            "On branch main\n",
            "Your branch is ahead of 'origin/main' by 1 commit.\n",
            "  (use \"git push\" to publish your local commits)\n",
            "\n",
            "nothing to commit, working tree clean\n"
          ]
        }
      ]
    },
    {
      "cell_type": "code",
      "source": [
        "!git push origin main\n"
      ],
      "metadata": {
        "id": "qeXdCW4qpNn5",
        "outputId": "392c65da-137b-46bf-ca8e-b0ece3acfc71",
        "colab": {
          "base_uri": "https://localhost:8080/"
        }
      },
      "execution_count": null,
      "outputs": [
        {
          "output_type": "stream",
          "name": "stdout",
          "text": [
            "fatal: could not read Username for 'https://github.com': No such device or address\n"
          ]
        }
      ]
    },
    {
      "cell_type": "markdown",
      "source": [],
      "metadata": {
        "id": "OktO0erpNKWq"
      }
    },
    {
      "cell_type": "markdown",
      "source": [],
      "metadata": {
        "id": "K_RxBGnNJ9EY"
      }
    }
  ]
}